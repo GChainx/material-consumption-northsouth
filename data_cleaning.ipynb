{
 "cells": [
  {
   "cell_type": "markdown",
   "id": "5c128bad",
   "metadata": {},
   "source": [
    "## 1.  Import data"
   ]
  },
  {
   "cell_type": "code",
   "execution_count": null,
   "id": "ae374132",
   "metadata": {
    "vscode": {
     "languageId": "groovy"
    }
   },
   "outputs": [
    {
     "name": "stdout",
     "output_type": "stream",
     "text": [
      "⚠️ GHG read failed: [Errno 2] No such file or directory: 'data/ghg.xlsx'\n",
      "⚠️ HALE read failed: [Errno 2] No such file or directory: 'data/hale.csv'\n",
      "✅ Under-5 Mortality dataset loaded: (266, 68)\n",
      "⚠️ MF dataset failed: [Errno 2] No such file or directory: 'data/mf.xlsx'\n",
      "⚠️ PPP dataset failed: [Errno 2] No such file or directory: 'data/ppp.csv'\n",
      "\n",
      "All local datasets read successfully (if no warnings above).\n"
     ]
    }
   ],
   "source": [
    "import pandas as pd\n",
    "\n",
    "DATA_PATH = \"data/\"\n",
    "\n",
    "# File paths\n",
    "files = {\n",
    "    \"ghg\": f\"{DATA_PATH}ghg.xlsx\",\n",
    "    \"hale\": f\"{DATA_PATH}hale.csv\",\n",
    "    \"under5\": f\"{DATA_PATH}under5.csv\",\n",
    "    \"mf\": f\"{DATA_PATH}mf.xlsx\",\n",
    "    \"ppp\": f\"{DATA_PATH}ppp.csv\"\n",
    "    \"classification\": f\"{DATA_PATH}world-bank-income-groups.csv\"\n",
    "}\n",
    "\n",
    "# Read datasets\n",
    "try:\n",
    "    ghg_raw = pd.read_excel(files[\"ghg\"], sheet_name=\"GHG_per_capita_by_country\")\n",
    "    print(\"✅ GHG dataset loaded:\", ghg_raw.shape)\n",
    "except Exception as e:\n",
    "    print(\"⚠️ GHG read failed:\", e)\n",
    "\n",
    "try:\n",
    "    hale_raw = pd.read_csv(files[\"hale\"]).dropna(axis=1, how=\"all\")\n",
    "    print(\"✅ HALE dataset loaded:\", hale_raw.shape)\n",
    "except Exception as e:\n",
    "    print(\"⚠️ HALE read failed:\", e)\n",
    "\n",
    "try:\n",
    "    under5_raw = pd.read_csv(files[\"under5\"]).dropna(axis=1, how=\"all\")\n",
    "    print(\"✅ Under-5 Mortality dataset loaded:\", under5_raw.shape)\n",
    "except Exception as e:\n",
    "    print(\"⚠️ Under-5 dataset failed:\", e)\n",
    "\n",
    "try:\n",
    "    mf_raw = pd.read_excel(files[\"mf\"])\n",
    "    print(\"✅ Material Footprint dataset loaded:\", mf_raw.shape)\n",
    "except Exception as e:\n",
    "    print(\"⚠️ MF dataset failed:\", e)\n",
    "\n",
    "    try:\n",
    "        ppp_raw = pd.read_csv(files[\"ppp\"]).dropna(axis=1, how=\"all\")\n",
    "        print(\"✅ GNI/PPP dataset loaded:\", ppp_raw.shape)\n",
    "    except Exception as e:\n",
    "        print(\"⚠️ PPP dataset failed:\", e)\n",
    "\n",
    "try:\n",
    "    classification_raw = pd.read_csv(files[\"classification\"]).dropna(axis=1, how=\"all\")\n",
    "    print(\"✅ Classification dataset loaded:\", classification_raw.shape)\n",
    "except Exception as e:\n",
    "    print(\"⚠️ Classification dataset failed:\", e)\n",
    "\n",
    "print(\"\\nAll local datasets read successfully (if no warnings above).\")"
   ]
  }
 ],
 "metadata": {
  "kernelspec": {
   "display_name": "Python 3",
   "language": "python",
   "name": "python3"
  },
  "language_info": {
   "codemirror_mode": {
    "name": "ipython",
    "version": 3
   },
   "file_extension": ".py",
   "mimetype": "text/x-python",
   "name": "python",
   "nbconvert_exporter": "python",
   "pygments_lexer": "ipython3",
   "version": "3.13.7"
  }
 },
 "nbformat": 4,
 "nbformat_minor": 5
}
